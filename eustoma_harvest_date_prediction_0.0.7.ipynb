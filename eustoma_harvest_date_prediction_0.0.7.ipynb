{
  "nbformat": 4,
  "nbformat_minor": 0,
  "metadata": {
    "colab": {
      "provenance": [],
      "include_colab_link": true
    },
    "kernelspec": {
      "name": "python3",
      "display_name": "Python 3"
    },
    "language_info": {
      "name": "python"
    }
  },
  "cells": [
    {
      "cell_type": "markdown",
      "metadata": {
        "id": "view-in-github",
        "colab_type": "text"
      },
      "source": [
        "<a href=\"https://colab.research.google.com/github/1900690/eustoma_harvest_date_prediction/blob/main/eustoma_harvest_date_prediction_0.0.7.ipynb\" target=\"_parent\"><img src=\"https://colab.research.google.com/assets/colab-badge.svg\" alt=\"Open In Colab\"/></a>"
      ]
    },
    {
      "cell_type": "markdown",
      "source": [
        "#トルコギキョウ切り花の出荷予測\n",
        "\n",
        "参考：[発蕾日を起点としたトルコギキョウ切り花の収穫日予測と計画生産技術](https://)"
      ],
      "metadata": {
        "id": "-gGlXLjfZzP1"
      }
    },
    {
      "cell_type": "markdown",
      "source": [
        "#使い方\n",
        "\n",
        "\n",
        "*   実行にはグーグルアカウントが必要です\n",
        "*   入力が終わったら、Shift+Enterを入力（もしくは![スクリーンショット (3).png](data:image/png;base64,iVBORw0KGgoAAAANSUhEUgAAAB4AAAAaCAYAAACgoey0AAAACXBIWXMAAA7EAAAOxAGVKw4bAAADvUlEQVRIia1Wv0szTRB+7vYul6BwnIEUSeFPtBBEOMtUNtpZphQb/zVLm3R2FoKNooGAVioIUSOJSn7c3d7uW+SdfXc3ifDBNxByx+3MM88zO7PrjEYjib+W5zk9Qgih3qWUcF0XUkr1Y4whz3MwxiCEUO+O48BxHAghDB96dl0XjDF4BJRlGfr9PqRUecw1Ckr//8V830cURVBeaZoaoJSpDqaDAlD/+jcppfFOsYQQ6gdgwjjPc4zHY7WY5NKBZoHprPWEHMeBlNKQnOKRucBE5sFgoGpADgQ0i4VtekJ68nopdF8PAEajkfGRGJLUNnsdyJbbVovY66opxnbmVF8KwDk3gum10pXRJSWVKBHO+TRj23Rneient7c3PD4+otVq4f39Ha7rYnl5GTs7O9ja2sLCwoLy8zxP+dOzwhiNRrLX6+Hn5we+76usKWPqUwC4v7/H+fk5Op0O8jwH51wFCoIA29vbaDQaKJfLYIyphKnvAYAxhnK5bDK2pWKMKclvb29xdnaGj4+Pf3JpjJIkwd3dHQaDAU5OTlCtVtUQ8n1flYWe53a/53mqRt1uFxcXFwZoGIYIwxDAZA+QMk9PT7i8vESaplMxqe1+BdZ38MPDA56fn43vcRyj0WigUqmogIwxJEmCdruNTqejpLXBfwUG/k2vz89PJEky9X1vbw+np6eI4xi+76uadzoddLtdA2iqC2yW+pikVuj3+8YBome/srKCg4MD1Go1taHG47GRqD7dyOZuLn3x0tISCoXCVN2GwyHa7TaazSZeX19VcouLiwiCYKaKpMDMPrYzXV1dRalUMoCTJEGz2cTV1RW+vr5UFwghUKvVUK1WAUzGsdrJGuu5wBRECIG1tTWsr6/j5uYGvu9DSonr62u1VkqJIAiQpimKxSJ2d3dRqVTU4JBSIs9zY4j8uqvJSqUSDg8Psbm5iSzLwDk3hgf1calUQhzHqNfrxrEqpVTtOXNX25tLCAHP88A5x8bGBo6Pj1Gv1xEEAYrFogL3PA9hGGJ/fx9HR0fG2NRNPySMkRkEgXGGErjukKYpXl5e0Gq1MBgM4HkeyuUy4jhGFEVq3JISxJhOKLqBzASeZVQjmuGu64JzPnXc0SAhQFvRIAgQRRE8u+jzjOa2LtksP/0c19naUruMsamxZt8y5t1A7HNZv4XqPrYqwN92yrIMANR1lRbptaIS6Pcrg4EVmE41qjnVWK0HJu1CzO0NoWdvs/2NtX6/tu9eijFl3Ov1MBwO8f39bfTp/22FQgF/AEaZ3ifjGKHvAAAAAElFTkSuQmCC)をタップ)"
      ],
      "metadata": {
        "id": "KXKxHg2Mw8bU"
      }
    },
    {
      "cell_type": "code",
      "execution_count": 1,
      "metadata": {
        "id": "bLXJcZUyZqTJ",
        "cellView": "form"
      },
      "outputs": [],
      "source": [
        "#@title 以下の条件がすべて満たされる場合生育予測を行うことができる\n",
        "発蕾日がわかる = True #@param {type:\"boolean\"}\n",
        "#@markdown ※発蕾日は主茎頂花蕾が５mmに達した日のこと\n",
        "芽整理は１枝１花１蕾である = True #@param {type:\"boolean\"}\n",
        "白熱灯を用いた長日処理を開花期まで行う = True #@param {type:\"boolean\"}\n",
        "圃場内の日平均気温が計算できる = True #@param {type:\"boolean\"}\n",
        "#@markdown ※日平均気温は日の出から翌日の日の出までの平均気温のこと\n",
        "\n",
        "#@markdown ※日平均気温は最低11.8℃以上であること\n",
        "\n",
        "\n",
        "\n"
      ]
    },
    {
      "cell_type": "code",
      "source": [
        "#@title 生育予測\n",
        "\n",
        "#ライブラリをインポート\n",
        "from datetime import datetime, date\n",
        "from datetime import timedelta, date\n",
        "from datetime import datetime\n",
        "\n",
        "#入力部分\n",
        "品種を選択 = '\\u30EC\\u30A4\\u30CA\\uFF12\\u578B\\u30DB\\u30EF\\u30A4\\u30C8' #@param [\"セレブリッチホワイト\", \"レイナ２型ホワイト\"]\n",
        "発蕾日を入力 = '2023-01-01' #@param {type:\"date\"}\n",
        "期間平均気温を入力=25 #@param {type:\"integer\"}\n",
        "#@markdown ※期間平均気温は日平均気温の平均\n",
        "\n",
        "\n",
        "d1 = datetime.strptime(発蕾日を入力, '%Y-%m-%d')\n",
        "\n",
        "if 品種を選択 == 'セレブリッチホワイト':\n",
        "  d2=d1 +timedelta(days=int(414.5/(期間平均気温を入力-11.8)))\n",
        "if 品種を選択 == 'レイナ２型ホワイト':\n",
        "  d2=d1 +timedelta(days=int(436/(期間平均気温を入力-11.8)))\n",
        "\n",
        "judge = (発蕾日がわかる,芽整理は１枝１花１蕾である,白熱灯を用いた長日処理を開花期まで行う,圃場内の日平均気温が計算できる)\n",
        "if all(judge)==True:\n",
        "  print(\"出荷予測日は\",d2.year,\"年\",d2.month,\"月\",d2.day,\"日です\")\n",
        "else:\n",
        "  print(\"予測を行う条件が満たされていないため予測できません\")"
      ],
      "metadata": {
        "cellView": "form",
        "id": "08YJCrynfX1B",
        "outputId": "573ba3c0-e8e0-4a8f-e692-23443d242956",
        "colab": {
          "base_uri": "https://localhost:8080/"
        }
      },
      "execution_count": 2,
      "outputs": [
        {
          "output_type": "stream",
          "name": "stdout",
          "text": [
            "出荷予測日は 2023 年 2 月 1 日です\n"
          ]
        }
      ]
    }
  ]
}